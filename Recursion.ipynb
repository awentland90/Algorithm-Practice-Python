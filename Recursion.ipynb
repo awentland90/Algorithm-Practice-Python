{
 "cells": [
  {
   "cell_type": "markdown",
   "metadata": {
    "collapsed": true
   },
   "source": [
    "## Recursion Algorithms\n",
    "\n",
    "#### Rules of recursion\n",
    "1. The algorithm must have a base case\n",
    "2. The algorithm must change state towards the base case\n",
    "3. The algorithm must call itself\n",
    "\n",
    "#### Factorial Function\n",
    "\n",
    "Compute n!"
   ]
  },
  {
   "cell_type": "code",
   "execution_count": 5,
   "metadata": {},
   "outputs": [
    {
     "name": "stdout",
     "output_type": "stream",
     "text": [
      "1\n1\n6\n3628800\n"
     ]
    }
   ],
   "source": [
    "def factorial(n):\n",
    "    if n == 0:\n",
    "        return 1\n",
    "    else:\n",
    "        return n*factorial(n-1)\n",
    "    \n",
    "print(factorial(0))\n",
    "print(factorial(1))\n",
    "print(factorial(3))\n",
    "print(factorial(10))"
   ]
  },
  {
   "cell_type": "markdown",
   "metadata": {},
   "source": [
    "#### Binary Search Function\n",
    "\n",
    "Determine if a target value is within a sorted list of n elements"
   ]
  },
  {
   "cell_type": "code",
   "execution_count": 17,
   "metadata": {},
   "outputs": [
    {
     "name": "stdout",
     "output_type": "stream",
     "text": [
      "True\nFalse\nTrue\n"
     ]
    }
   ],
   "source": [
    "def binary_sorted_search(arr, target, low, high):\n",
    "    if low > high:\n",
    "        return False\n",
    "    else:\n",
    "        mid = (low + high) // 2\n",
    "        if target == arr[mid]:\n",
    "            return True\n",
    "        elif target < arr[mid]:\n",
    "            return binary_sorted_search(arr, target, low, mid - 1)\n",
    "        else:\n",
    "            return binary_sorted_search(arr, target, mid + 1, high)\n",
    "\n",
    "\n",
    "list_1 = [-1, 1, 2, 3, 4, 5, 10, 20, 25, 76, 98, 100]\n",
    "\n",
    "print(binary_sorted_search(list_1, 76, 0, len(list_1)))\n",
    "print(binary_sorted_search(list_1, 0, 0, len(list_1)))\n",
    "print(binary_sorted_search(list_1, -1, 0, len(list_1)))\n"
   ]
  },
  {
   "cell_type": "markdown",
   "metadata": {},
   "source": [
    "#### Fibonacci\n",
    "\n",
    "Compute the nth and nth-1 Fibonacci numbers using recursion"
   ]
  },
  {
   "cell_type": "code",
   "execution_count": 25,
   "metadata": {
    "collapsed": true
   },
   "outputs": [
    {
     "name": "stdout",
     "output_type": "stream",
     "text": [
      "(0, 0)\n(2, 1)\n(55, 34)\n"
     ]
    }
   ],
   "source": [
    "def fibonacci(n):\n",
    "    if n <= 1:\n",
    "        return n, 0\n",
    "    else:\n",
    "        (a, b) = fibonacci(n-1)\n",
    "        return a+b, a\n",
    "\n",
    "\n",
    "print(fibonacci(0))\n",
    "print(fibonacci(3))\n",
    "print(fibonacci(10))"
   ]
  },
  {
   "cell_type": "markdown",
   "metadata": {},
   "source": [
    "#### Summing a Sequence\n",
    "\n",
    "Sum the first n numbers of a sequence"
   ]
  },
  {
   "cell_type": "code",
   "execution_count": 33,
   "metadata": {},
   "outputs": [
    {
     "name": "stdout",
     "output_type": "stream",
     "text": [
      "0\n3\n15\n"
     ]
    }
   ],
   "source": [
    "def sum_seq(arr, n):\n",
    "    if n == 0:\n",
    "        return 0\n",
    "    else:\n",
    "        return sum_seq(arr, n-1) + arr[n-1]\n",
    "\n",
    "\n",
    "arr1 = [0, 1, 2, 3, 4, 5]\n",
    "\n",
    "print(sum_seq(arr1, 0))\n",
    "print(sum_seq(arr1, 3))\n",
    "print(sum_seq(arr1, 6))"
   ]
  },
  {
   "cell_type": "markdown",
   "metadata": {},
   "source": [
    "#### Computing Power O(n)\n",
    "\n",
    "Raise a number, x, to an integer, n"
   ]
  },
  {
   "cell_type": "code",
   "execution_count": 43,
   "metadata": {},
   "outputs": [
    {
     "name": "stdout",
     "output_type": "stream",
     "text": [
      "1\n8\n10000000000\n"
     ]
    }
   ],
   "source": [
    "def power(x, n):\n",
    "    if n == 0:\n",
    "        return 1\n",
    "    else:\n",
    "        return x * power(x, n-1)\n",
    "\n",
    "\n",
    "print(power(1, 1))\n",
    "print(power(2, 3))\n",
    "print(power(10, 10))"
   ]
  },
  {
   "cell_type": "markdown",
   "metadata": {},
   "source": [
    "#### Computing Power O(log(n))\n",
    "\n",
    "Raise a number, x, to an integer, n"
   ]
  },
  {
   "cell_type": "code",
   "execution_count": 46,
   "metadata": {},
   "outputs": [
    {
     "name": "stdout",
     "output_type": "stream",
     "text": [
      "2\n8\n10000000000\n"
     ]
    }
   ],
   "source": [
    "def power(x, n):\n",
    "    if n == 0:\n",
    "        return 1\n",
    "    else:\n",
    "        partial = power(x, n//2)\n",
    "        result = partial * partial\n",
    "        if n % 2 == 1:\n",
    "            result *= x\n",
    "        return result\n",
    "        \n",
    "        \n",
    "print(power(2, 1))\n",
    "print(power(2, 3))\n",
    "print(power(10, 10))"
   ]
  },
  {
   "cell_type": "code",
   "execution_count": null,
   "metadata": {},
   "outputs": [],
   "source": []
  }
 ],
 "metadata": {
  "kernelspec": {
   "display_name": "Python 2",
   "language": "python",
   "name": "python2"
  },
  "language_info": {
   "codemirror_mode": {
    "name": "ipython",
    "version": 2
   },
   "file_extension": ".py",
   "mimetype": "text/x-python",
   "name": "python",
   "nbconvert_exporter": "python",
   "pygments_lexer": "ipython2",
   "version": "2.7.6"
  }
 },
 "nbformat": 4,
 "nbformat_minor": 0
}
